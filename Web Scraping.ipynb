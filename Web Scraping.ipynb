{
 "cells": [
  {
   "cell_type": "markdown",
   "metadata": {},
   "source": [
    "# Code to Scrap Data from Indeed.com"
   ]
  },
  {
   "cell_type": "code",
   "execution_count": 1,
   "metadata": {},
   "outputs": [],
   "source": [
    "import requests\n",
    "from bs4 import BeautifulSoup\n",
    "from datetime import datetime\n",
    "import cloudscraper\n",
    "import pandas as pd"
   ]
  },
  {
   "cell_type": "code",
   "execution_count": 2,
   "metadata": {},
   "outputs": [],
   "source": [
    "def get_url(position, location):\n",
    "    template = 'https://in.indeed.com/jobs?q={}&l={}'\n",
    "    url = template.format(position, location)\n",
    "    return url"
   ]
  },
  {
   "cell_type": "code",
   "execution_count": 3,
   "metadata": {},
   "outputs": [],
   "source": [
    "def main(pos, loc):\n",
    "\n",
    "    position = []\n",
    "    company_name = []\n",
    "    location = []\n",
    "    salary = []\n",
    "    description = []\n",
    "\n",
    "    url = get_url(pos, loc)  # create the url while passing in the position and location.\n",
    "    scraper = cloudscraper.create_scraper() \n",
    "    \n",
    "    while True:\n",
    "        response = scraper.get(url)\n",
    "        soup = BeautifulSoup(response.text, 'html.parser')\n",
    "        print(url)\n",
    "        \n",
    "        temp = soup.find_all('div', 'css-1m4cuuf e37uo190')\n",
    "        for i in temp:\n",
    "            position.append(i.text.strip())\n",
    "        \n",
    "        temp = soup.find_all('span','companyName')\n",
    "        for i in temp:\n",
    "            company_name.append(i.text.strip())\n",
    "            \n",
    "        temp = soup.find_all('div','companyLocation')\n",
    "        for i in temp:\n",
    "            location.append(i.text.strip())\n",
    "        \n",
    "        temp = soup.find_all('div','heading6 tapItem-gutter metadataContainer noJEMChips salaryOnly')\n",
    "        for i in temp:\n",
    "            salary.append(i.text)\n",
    "        \n",
    "        temp = soup.find_all('div','job-snippet')\n",
    "        for i in temp:\n",
    "            description.append(i.text)\n",
    "\n",
    "            \n",
    "        try:\n",
    "            url = 'https://www.indeed.com' + soup.find('a', {'aria-label': 'Next'}).get('href')\n",
    "            print(url)\n",
    "            delay = randint(1, 10)\n",
    "            sleep(delay)\n",
    "        except AttributeError:\n",
    "            break\n",
    "\n",
    "    d = {'Position':position, 'Company':company_name, 'Location':location, 'Description':description}\n",
    "    df = pd.DataFrame(d)\n",
    "    print(df)"
   ]
  },
  {
   "cell_type": "code",
   "execution_count": 4,
   "metadata": {},
   "outputs": [
    {
     "name": "stdout",
     "output_type": "stream",
     "text": [
      "https://in.indeed.com/jobs?q=python+developer&l=Mumbai\n",
      "                                             Position  \\\n",
      "0                                 Python Developernew   \n",
      "1                                 Python Developernew   \n",
      "2                                 Python Developernew   \n",
      "3                           Python Software Developer   \n",
      "4                                    Python Developer   \n",
      "5                                   C++ Programmernew   \n",
      "6                                 Python Developernew   \n",
      "7                   Application Developer - Pythonnew   \n",
      "8                                    Python Developer   \n",
      "9   Python Programming Language Application Develo...   \n",
      "10                                   Python Developer   \n",
      "11                                   Python Developer   \n",
      "12                                   Python Developer   \n",
      "13                                   Python Developer   \n",
      "14                                   Python Developer   \n",
      "\n",
      "                        Company                  Location  \\\n",
      "0                   Digikave IT       Mumbai, Maharashtra   \n",
      "1     Oriata Techserv Pvt. Ltd.       Mumbai, Maharashtra   \n",
      "2                        Mystro       Mumbai, Maharashtra   \n",
      "3                   Net Connect       Mumbai, Maharashtra   \n",
      "4              Allied Globetech  Navi Mumbai, Maharashtra   \n",
      "5      Pressman Advertising Ltd       Mumbai, Maharashtra   \n",
      "6    Laqshya Infosoft Solutions       Mumbai, Maharashtra   \n",
      "7                        Oracle       Mumbai, Maharashtra   \n",
      "8         FutureWorks Media Ltd       Mumbai, Maharashtra   \n",
      "9                     Accenture       Mumbai, Maharashtra   \n",
      "10  NeoDocs Healthcare Pvt. Ltd       Mumbai, Maharashtra   \n",
      "11                      NeoSOFT       Mumbai, Maharashtra   \n",
      "12             Sankey Solutions        Thane, Maharashtra   \n",
      "13             Focskill pvt.ltd       Mumbai, Maharashtra   \n",
      "14                    OptimHire       Mumbai, Maharashtra   \n",
      "\n",
      "                                          Description  \n",
      "0   \\nIntegration of user-facing elements develope...  \n",
      "1   \\nTeach and mentor buddy developers in project...  \n",
      "2   \\nThe Software Developer role primarily in Bac...  \n",
      "3   \\nMinimum 0-2 years of relevant professional e...  \n",
      "4   Strong technical proficiency,capable of proble...  \n",
      "5   \\nWe are looking for a C++ developer responsib...  \n",
      "6   \\nWe are looking for young and dynamic program...  \n",
      "7   \\nYou will be responsible for applying your ex...  \n",
      "8   \\nYou will be expected to perform a variety of...  \n",
      "9   \\nKey Responsibilities : A Participate in data...  \n",
      "10  \\nWe are led by a team of experienced IIT Bomb...  \n",
      "11  \\nThe ideal candidate will be familiar with th...  \n",
      "12  \\nExperience with python Jupiter Notebooks.\\nC...  \n",
      "13  \\nCloud Knowledge(AWS Lambda/s3/SQS/RDS) (Requ...  \n",
      "14  \\nIntegration of user-facing elements develope...  \n"
     ]
    }
   ],
   "source": [
    "main('python+developer', 'Mumbai')"
   ]
  }
 ],
 "metadata": {
  "kernelspec": {
   "display_name": "Python 3",
   "language": "python",
   "name": "python3"
  },
  "language_info": {
   "codemirror_mode": {
    "name": "ipython",
    "version": 3
   },
   "file_extension": ".py",
   "mimetype": "text/x-python",
   "name": "python",
   "nbconvert_exporter": "python",
   "pygments_lexer": "ipython3",
   "version": "3.8.3"
  }
 },
 "nbformat": 4,
 "nbformat_minor": 4
}
